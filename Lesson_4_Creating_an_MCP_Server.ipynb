{
  "cells": [
    {
      "cell_type": "markdown",
      "metadata": {
        "id": "ekLjcFG8JxrH"
      },
      "source": [
        "# Lesson 4: Creating an MCP Server\n",
        "\n",
        "Build a chatbot that makes use of ArXiv for searching for papers and finding some information."
      ]
    },
    {
      "cell_type": "markdown",
      "metadata": {
        "id": "8MPtLZ1nJ3FN"
      },
      "source": [
        "## Import Libraries"
      ]
    },
    {
      "cell_type": "code",
      "execution_count": 4,
      "metadata": {
        "colab": {
          "base_uri": "https://localhost:8080/"
        },
        "id": "VYJtHFnmKQRu",
        "outputId": "e552e6f8-b9c8-4396-d558-9a4ef3ab8086"
      },
      "outputs": [
        {
          "name": "stdout",
          "output_type": "stream",
          "text": [
            "Defaulting to user installation because normal site-packages is not writeable\n",
            "Collecting arxiv\n",
            "  Downloading arxiv-2.2.0-py3-none-any.whl.metadata (6.3 kB)\n",
            "Collecting feedparser~=6.0.10 (from arxiv)\n",
            "  Downloading feedparser-6.0.11-py3-none-any.whl.metadata (2.4 kB)\n",
            "Requirement already satisfied: requests~=2.32.0 in /Users/janhavisathe/Library/Python/3.9/lib/python/site-packages (from arxiv) (2.32.3)\n",
            "Collecting sgmllib3k (from feedparser~=6.0.10->arxiv)\n",
            "  Downloading sgmllib3k-1.0.0.tar.gz (5.8 kB)\n",
            "  Preparing metadata (setup.py) ... \u001b[?25ldone\n",
            "\u001b[?25hRequirement already satisfied: charset-normalizer<4,>=2 in /Users/janhavisathe/Library/Python/3.9/lib/python/site-packages (from requests~=2.32.0->arxiv) (3.3.0)\n",
            "Requirement already satisfied: idna<4,>=2.5 in /Users/janhavisathe/Library/Python/3.9/lib/python/site-packages (from requests~=2.32.0->arxiv) (3.4)\n",
            "Requirement already satisfied: urllib3<3,>=1.21.1 in /Users/janhavisathe/Library/Python/3.9/lib/python/site-packages (from requests~=2.32.0->arxiv) (2.0.6)\n",
            "Requirement already satisfied: certifi>=2017.4.17 in /Users/janhavisathe/Library/Python/3.9/lib/python/site-packages (from requests~=2.32.0->arxiv) (2023.7.22)\n",
            "Downloading arxiv-2.2.0-py3-none-any.whl (11 kB)\n",
            "Downloading feedparser-6.0.11-py3-none-any.whl (81 kB)\n",
            "\u001b[2K   \u001b[90m━━━━━━━━━━━━━━━━━━━━━━━━━━━━━━━━━━━━━━━━\u001b[0m \u001b[32m81.3/81.3 kB\u001b[0m \u001b[31m1.5 MB/s\u001b[0m eta \u001b[36m0:00:00\u001b[0ma \u001b[36m0:00:01\u001b[0m\n",
            "\u001b[?25hBuilding wheels for collected packages: sgmllib3k\n",
            "  Building wheel for sgmllib3k (setup.py) ... \u001b[?25ldone\n",
            "\u001b[?25h  Created wheel for sgmllib3k: filename=sgmllib3k-1.0.0-py3-none-any.whl size=6065 sha256=30ceac4925353fca2a74733afbb6054522f34997a6c1b1d39098f800958603a2\n",
            "  Stored in directory: /Users/janhavisathe/Library/Caches/pip/wheels/65/7a/a7/78c287f64e401255dff4c13fdbc672fed5efbfd21c530114e1\n",
            "Successfully built sgmllib3k\n",
            "Installing collected packages: sgmllib3k, feedparser, arxiv\n",
            "Successfully installed arxiv-2.2.0 feedparser-6.0.11 sgmllib3k-1.0.0\n",
            "\n",
            "\u001b[1m[\u001b[0m\u001b[34;49mnotice\u001b[0m\u001b[1;39;49m]\u001b[0m\u001b[39;49m A new release of pip is available: \u001b[0m\u001b[31;49m23.3.1\u001b[0m\u001b[39;49m -> \u001b[0m\u001b[32;49m25.1.1\u001b[0m\n",
            "\u001b[1m[\u001b[0m\u001b[34;49mnotice\u001b[0m\u001b[1;39;49m]\u001b[0m\u001b[39;49m To update, run: \u001b[0m\u001b[32;49m/Applications/Xcode.app/Contents/Developer/usr/bin/python3 -m pip install --upgrade pip\u001b[0m\n",
            "Defaulting to user installation because normal site-packages is not writeable\n",
            "Collecting python-dotenv\n",
            "  Downloading python_dotenv-1.1.0-py3-none-any.whl.metadata (24 kB)\n",
            "Downloading python_dotenv-1.1.0-py3-none-any.whl (20 kB)\n",
            "Installing collected packages: python-dotenv\n",
            "Successfully installed python-dotenv-1.1.0\n",
            "\n",
            "\u001b[1m[\u001b[0m\u001b[34;49mnotice\u001b[0m\u001b[1;39;49m]\u001b[0m\u001b[39;49m A new release of pip is available: \u001b[0m\u001b[31;49m23.3.1\u001b[0m\u001b[39;49m -> \u001b[0m\u001b[32;49m25.1.1\u001b[0m\n",
            "\u001b[1m[\u001b[0m\u001b[34;49mnotice\u001b[0m\u001b[1;39;49m]\u001b[0m\u001b[39;49m To update, run: \u001b[0m\u001b[32;49m/Applications/Xcode.app/Contents/Developer/usr/bin/python3 -m pip install --upgrade pip\u001b[0m\n",
            "Defaulting to user installation because normal site-packages is not writeable\n",
            "Collecting anthropic\n",
            "  Downloading anthropic-0.55.0-py3-none-any.whl.metadata (27 kB)\n",
            "Collecting anyio<5,>=3.5.0 (from anthropic)\n",
            "  Downloading anyio-4.9.0-py3-none-any.whl.metadata (4.7 kB)\n",
            "Collecting distro<2,>=1.7.0 (from anthropic)\n",
            "  Downloading distro-1.9.0-py3-none-any.whl.metadata (6.8 kB)\n",
            "Collecting httpx<1,>=0.25.0 (from anthropic)\n",
            "  Downloading httpx-0.28.1-py3-none-any.whl.metadata (7.1 kB)\n",
            "Collecting jiter<1,>=0.4.0 (from anthropic)\n",
            "  Downloading jiter-0.10.0-cp39-cp39-macosx_11_0_arm64.whl.metadata (5.2 kB)\n",
            "Collecting pydantic<3,>=1.9.0 (from anthropic)\n",
            "  Downloading pydantic-2.11.7-py3-none-any.whl.metadata (67 kB)\n",
            "\u001b[2K     \u001b[90m━━━━━━━━━━━━━━━━━━━━━━━━━━━━━━━━━━━━━━━━\u001b[0m \u001b[32m68.0/68.0 kB\u001b[0m \u001b[31m1.4 MB/s\u001b[0m eta \u001b[36m0:00:00\u001b[0ma \u001b[36m0:00:01\u001b[0m\n",
            "\u001b[?25hCollecting sniffio (from anthropic)\n",
            "  Downloading sniffio-1.3.1-py3-none-any.whl.metadata (3.9 kB)\n",
            "Collecting typing-extensions<5,>=4.10 (from anthropic)\n",
            "  Downloading typing_extensions-4.14.0-py3-none-any.whl.metadata (3.0 kB)\n",
            "Requirement already satisfied: exceptiongroup>=1.0.2 in /Users/janhavisathe/Library/Python/3.9/lib/python/site-packages (from anyio<5,>=3.5.0->anthropic) (1.1.3)\n",
            "Requirement already satisfied: idna>=2.8 in /Users/janhavisathe/Library/Python/3.9/lib/python/site-packages (from anyio<5,>=3.5.0->anthropic) (3.4)\n",
            "Requirement already satisfied: certifi in /Users/janhavisathe/Library/Python/3.9/lib/python/site-packages (from httpx<1,>=0.25.0->anthropic) (2023.7.22)\n",
            "Collecting httpcore==1.* (from httpx<1,>=0.25.0->anthropic)\n",
            "  Downloading httpcore-1.0.9-py3-none-any.whl.metadata (21 kB)\n",
            "Collecting h11>=0.16 (from httpcore==1.*->httpx<1,>=0.25.0->anthropic)\n",
            "  Downloading h11-0.16.0-py3-none-any.whl.metadata (8.3 kB)\n",
            "Collecting annotated-types>=0.6.0 (from pydantic<3,>=1.9.0->anthropic)\n",
            "  Downloading annotated_types-0.7.0-py3-none-any.whl.metadata (15 kB)\n",
            "Collecting pydantic-core==2.33.2 (from pydantic<3,>=1.9.0->anthropic)\n",
            "  Downloading pydantic_core-2.33.2-cp39-cp39-macosx_11_0_arm64.whl.metadata (6.8 kB)\n",
            "Collecting typing-inspection>=0.4.0 (from pydantic<3,>=1.9.0->anthropic)\n",
            "  Downloading typing_inspection-0.4.1-py3-none-any.whl.metadata (2.6 kB)\n",
            "Downloading anthropic-0.55.0-py3-none-any.whl (289 kB)\n",
            "\u001b[2K   \u001b[90m━━━━━━━━━━━━━━━━━━━━━━━━━━━━━━━━━━━━━━━━\u001b[0m \u001b[32m289.3/289.3 kB\u001b[0m \u001b[31m5.2 MB/s\u001b[0m eta \u001b[36m0:00:00\u001b[0ma \u001b[36m0:00:01\u001b[0m\n",
            "\u001b[?25hDownloading anyio-4.9.0-py3-none-any.whl (100 kB)\n",
            "\u001b[2K   \u001b[90m━━━━━━━━━━━━━━━━━━━━━━━━━━━━━━━━━━━━━━━━\u001b[0m \u001b[32m100.9/100.9 kB\u001b[0m \u001b[31m8.8 MB/s\u001b[0m eta \u001b[36m0:00:00\u001b[0m\n",
            "\u001b[?25hDownloading distro-1.9.0-py3-none-any.whl (20 kB)\n",
            "Downloading httpx-0.28.1-py3-none-any.whl (73 kB)\n",
            "\u001b[2K   \u001b[90m━━━━━━━━━━━━━━━━━━━━━━━━━━━━━━━━━━━━━━━━\u001b[0m \u001b[32m73.5/73.5 kB\u001b[0m \u001b[31m8.0 MB/s\u001b[0m eta \u001b[36m0:00:00\u001b[0m\n",
            "\u001b[?25hDownloading httpcore-1.0.9-py3-none-any.whl (78 kB)\n",
            "\u001b[2K   \u001b[90m━━━━━━━━━━━━━━━━━━━━━━━━━━━━━━━━━━━━━━━━\u001b[0m \u001b[32m78.8/78.8 kB\u001b[0m \u001b[31m8.2 MB/s\u001b[0m eta \u001b[36m0:00:00\u001b[0m\n",
            "\u001b[?25hDownloading jiter-0.10.0-cp39-cp39-macosx_11_0_arm64.whl (312 kB)\n",
            "\u001b[2K   \u001b[90m━━━━━━━━━━━━━━━━━━━━━━━━━━━━━━━━━━━━━━━━\u001b[0m \u001b[32m312.2/312.2 kB\u001b[0m \u001b[31m18.3 MB/s\u001b[0m eta \u001b[36m0:00:00\u001b[0m\n",
            "\u001b[?25hDownloading pydantic-2.11.7-py3-none-any.whl (444 kB)\n",
            "\u001b[2K   \u001b[90m━━━━━━━━━━━━━━━━━━━━━━━━━━━━━━━━━━━━━━━━\u001b[0m \u001b[32m444.8/444.8 kB\u001b[0m \u001b[31m25.6 MB/s\u001b[0m eta \u001b[36m0:00:00\u001b[0m\n",
            "\u001b[?25hDownloading pydantic_core-2.33.2-cp39-cp39-macosx_11_0_arm64.whl (1.9 MB)\n",
            "\u001b[2K   \u001b[90m━━━━━━━━━━━━━━━━━━━━━━━━━━━━━━━━━━━━━━━━\u001b[0m \u001b[32m1.9/1.9 MB\u001b[0m \u001b[31m27.5 MB/s\u001b[0m eta \u001b[36m0:00:00\u001b[0ma \u001b[36m0:00:01\u001b[0m\n",
            "\u001b[?25hDownloading sniffio-1.3.1-py3-none-any.whl (10 kB)\n",
            "Downloading typing_extensions-4.14.0-py3-none-any.whl (43 kB)\n",
            "\u001b[2K   \u001b[90m━━━━━━━━━━━━━━━━━━━━━━━━━━━━━━━━━━━━━━━━\u001b[0m \u001b[32m43.8/43.8 kB\u001b[0m \u001b[31m3.7 MB/s\u001b[0m eta \u001b[36m0:00:00\u001b[0m\n",
            "\u001b[?25hDownloading annotated_types-0.7.0-py3-none-any.whl (13 kB)\n",
            "Downloading typing_inspection-0.4.1-py3-none-any.whl (14 kB)\n",
            "Downloading h11-0.16.0-py3-none-any.whl (37 kB)\n",
            "Installing collected packages: typing-extensions, sniffio, jiter, h11, distro, annotated-types, typing-inspection, pydantic-core, httpcore, anyio, pydantic, httpx, anthropic\n",
            "  Attempting uninstall: typing-extensions\n",
            "    Found existing installation: typing_extensions 4.8.0\n",
            "    Uninstalling typing_extensions-4.8.0:\n",
            "      Successfully uninstalled typing_extensions-4.8.0\n",
            "Successfully installed annotated-types-0.7.0 anthropic-0.55.0 anyio-4.9.0 distro-1.9.0 h11-0.16.0 httpcore-1.0.9 httpx-0.28.1 jiter-0.10.0 pydantic-2.11.7 pydantic-core-2.33.2 sniffio-1.3.1 typing-extensions-4.14.0 typing-inspection-0.4.1\n",
            "\n",
            "\u001b[1m[\u001b[0m\u001b[34;49mnotice\u001b[0m\u001b[1;39;49m]\u001b[0m\u001b[39;49m A new release of pip is available: \u001b[0m\u001b[31;49m23.3.1\u001b[0m\u001b[39;49m -> \u001b[0m\u001b[32;49m25.1.1\u001b[0m\n",
            "\u001b[1m[\u001b[0m\u001b[34;49mnotice\u001b[0m\u001b[1;39;49m]\u001b[0m\u001b[39;49m To update, run: \u001b[0m\u001b[32;49m/Applications/Xcode.app/Contents/Developer/usr/bin/python3 -m pip install --upgrade pip\u001b[0m\n",
            "Defaulting to user installation because normal site-packages is not writeable\n",
            "\u001b[31mERROR: Ignored the following versions that require a different python version: 0.1.0 Requires-Python >=3.10; 0.2.0 Requires-Python >=3.10; 0.3.0 Requires-Python >=3.10; 0.3.1 Requires-Python >=3.10; 0.3.2 Requires-Python >=3.10; 0.3.3 Requires-Python >=3.10; 0.3.4 Requires-Python >=3.10; 0.3.5 Requires-Python >=3.10; 0.4.0 Requires-Python >=3.10; 0.4.1 Requires-Python >=3.10; 1.0 Requires-Python >=3.10; 2.0.0 Requires-Python >=3.10; 2.1.0 Requires-Python >=3.10; 2.1.1 Requires-Python >=3.10; 2.1.2 Requires-Python >=3.10; 2.2.0 Requires-Python >=3.10; 2.2.1 Requires-Python >=3.10; 2.2.10 Requires-Python >=3.10; 2.2.2 Requires-Python >=3.10; 2.2.3 Requires-Python >=3.10; 2.2.4 Requires-Python >=3.10; 2.2.5 Requires-Python >=3.10; 2.2.6 Requires-Python >=3.10; 2.2.7 Requires-Python >=3.10; 2.2.8 Requires-Python >=3.10; 2.2.9 Requires-Python >=3.10; 2.3.0 Requires-Python >=3.10; 2.3.0rc1 Requires-Python >=3.10; 2.3.1 Requires-Python >=3.10; 2.3.2 Requires-Python >=3.10; 2.3.3 Requires-Python >=3.10; 2.3.4 Requires-Python >=3.10; 2.3.5 Requires-Python >=3.10; 2.4.0 Requires-Python >=3.10; 2.5.0 Requires-Python >=3.10; 2.5.1 Requires-Python >=3.10; 2.5.2 Requires-Python >=3.10; 2.6.0 Requires-Python >=3.10; 2.6.1 Requires-Python >=3.10; 2.7.0 Requires-Python >=3.10; 2.7.1 Requires-Python >=3.10; 2.8.0 Requires-Python >=3.10; 2.8.1 Requires-Python >=3.10; 2.9.0 Requires-Python >=3.10\u001b[0m\u001b[31m\n",
            "\u001b[0m\u001b[31mERROR: Could not find a version that satisfies the requirement fastmcp (from versions: none)\u001b[0m\u001b[31m\n",
            "\u001b[0m\u001b[31mERROR: No matching distribution found for fastmcp\u001b[0m\u001b[31m\n",
            "\u001b[0m\n",
            "\u001b[1m[\u001b[0m\u001b[34;49mnotice\u001b[0m\u001b[1;39;49m]\u001b[0m\u001b[39;49m A new release of pip is available: \u001b[0m\u001b[31;49m23.3.1\u001b[0m\u001b[39;49m -> \u001b[0m\u001b[32;49m25.1.1\u001b[0m\n",
            "\u001b[1m[\u001b[0m\u001b[34;49mnotice\u001b[0m\u001b[1;39;49m]\u001b[0m\u001b[39;49m To update, run: \u001b[0m\u001b[32;49m/Applications/Xcode.app/Contents/Developer/usr/bin/python3 -m pip install --upgrade pip\u001b[0m\n"
          ]
        }
      ],
      "source": [
        "! pip install arxiv\n",
        "! pip install python-dotenv\n",
        "! pip install anthropic\n",
        "! pip install fastmcp"
      ]
    },
    {
      "cell_type": "code",
      "execution_count": 2,
      "metadata": {
        "colab": {
          "base_uri": "https://localhost:8080/"
        },
        "id": "w5Rht77cJtcB",
        "outputId": "35b31dd7-23b6-48df-9647-f386627983e7"
      },
      "outputs": [
        {
          "name": "stdout",
          "output_type": "stream",
          "text": [
            "Overwriting mcp_project/research_server.py\n"
          ]
        }
      ],
      "source": [
        "%%writefile mcp_project/research_server.py\n",
        "\n",
        "import arxiv\n",
        "import json\n",
        "import os\n",
        "from typing import List\n",
        "import anthropic\n",
        "from mcp.server.fastmcp import FastMCP\n",
        "\n",
        "PAPER_DIR = \"papers\" # define directory name to save papers in\n",
        "\n",
        "# Initialize FastMCP server\n",
        "mcp = FastMCP(\"research\")\n",
        "\n",
        "# Search Papers function\n",
        "@mcp.tool()\n",
        "def search_papers(topic: str, max_results: int = 5) -> List[str]:\n",
        "  \"\"\"\n",
        "  Search for papers on arXiv based on a topic and store their information.\n",
        "\n",
        "  Args:\n",
        "    topic: The topic to search for papers on.\n",
        "    max_results: The maximum number of results to return. (default: 5)\n",
        "\n",
        "  Returns:\n",
        "    List of paper IDs found in the search.\n",
        "  \"\"\"\n",
        "\n",
        "  # Use arxiv to find the papers\n",
        "  client = arxiv.Client()\n",
        "\n",
        "  # Search for the most relevant articles matching the queried topic\n",
        "  search = arxiv.Search(\n",
        "      query = \"all:\" + topic,\n",
        "      max_results = max_results,\n",
        "      sort_by = arxiv.SortCriterion.Relevance,\n",
        "  )\n",
        "\n",
        "  papers = client.results(search)\n",
        "\n",
        "  # Create directory for this topic\n",
        "  path = os.path.join(PAPER_DIR, topic.lower().replace(\" \", \"_\"))\n",
        "  os.makedirs(path, exist_ok=True)\n",
        "\n",
        "  file_path = os.path.join(path, \"papers_info.json\")\n",
        "\n",
        "  # Try to load existing papers info\n",
        "  try:\n",
        "    with open(file_path, \"r\") as json_file:\n",
        "      papers_info = json.load(json_file)\n",
        "  except (FileNotFoundError, json.JSONDecodeError):\n",
        "    papers_info = {}\n",
        "\n",
        "  # Process each paper and add to papers_info\n",
        "  paper_ids = []\n",
        "  for paper in papers:\n",
        "    paper_ids.append(paper.get_short_id())\n",
        "    paper_info = {\n",
        "        \"title\": paper.title,\n",
        "        \"summary\": paper.summary,\n",
        "        \"authors\": [author.name for author in paper.authors],\n",
        "        \"pdf_url\": paper.pdf_url,\n",
        "        \"published\": str(paper.published.date())\n",
        "    }\n",
        "    papers_info[paper.get_short_id()] = paper_info\n",
        "\n",
        "  # Save updated papers_info to json file\n",
        "  with open(file_path, \"w\") as json_file:\n",
        "    json.dump(papers_info, json_file, indent=2)\n",
        "\n",
        "  print(f\"Results are saved in: {file_path}\")\n",
        "\n",
        "  return paper_ids\n",
        "\n",
        "\n",
        "\n",
        "# Extract information from papers\n",
        "@mcp.tool()\n",
        "def extract_info(paper_id: str) -> str:\n",
        "  \"\"\"\n",
        "  Search for information about a specific paper across all topic directories\n",
        "\n",
        "  Args:\n",
        "    paper_id: The ID of the paper to search for.\n",
        "\n",
        "  Returns:\n",
        "    JSON string containing paper information if found, error message if not found.\n",
        "  \"\"\"\n",
        "  for item in os.listdir(PAPER_DIR):\n",
        "    item_path = os.path.join(PAPER_DIR, item)\n",
        "    if os.path.isdir(item_path):\n",
        "      file_path = os.path.join(item_path, \"papers_info.json\")\n",
        "      if os.path.isfile(file_path):\n",
        "        try:\n",
        "          with open(file_path, \"r\") as json_file:\n",
        "            papers_info = json.load(json_file)\n",
        "            if paper_id in papers_info:\n",
        "              return json.dumps(papers_info[paper_id], indent=2)\n",
        "        except (FileNotFoundError, json.JSONDecodeError) as e:\n",
        "          print(f\"Error reading {file_path}: {str(e)}\")\n",
        "          continue\n",
        "\n",
        "  return f\"There is no saved information saved about paper {paper_id}.\"\n",
        "\n",
        "if __name__ == \"__main__\":\n",
        "    # Initialize and run the server\n",
        "    mcp.run(transport='stdio')"
      ]
    },
    {
      "cell_type": "markdown",
      "metadata": {},
      "source": [
        "## Terminal Instructions\n",
        "- To open the terminal, run the cell below.\n",
        "- Navigate to the project directory and initiate it with `uv`:\n",
        "    - `cd L4/mcp_project`\n",
        "    - `uv init`\n",
        "-  Create virtual environment and activate it:\n",
        "    - `uv venv`\n",
        "    - `source .venv/bin/activate`\n",
        "- Install dependencies:\n",
        "    - `uv add mcp arxiv`\n",
        "- Launch the inspector:\n",
        "    - `npx @modelcontextprotocol/inspector uv run research_server.py`\n",
        "    - If you get a message asking \"need to install the following packages\", type: `y`\n",
        "- You will get a message saying that the inspector is up and running at a specific address. To open the inspector, click on that given address. The inspector will open in another tab.\n",
        "- In the inspector UI, make sure to follow the video. You would need to specify under configuration the `Inspector Proxy Address`. Please check the \"Inspector UI Instructions\" below and run the last cell (after the terminal) to get the `Inspector Proxy Address` for your configurations. \n",
        "- If you tested the tool and would like to access the `papers` folder: 1) click on the `File` option on the top menu of the notebook and 2) click on `Open` and then 3) click on `L4` -> `mcp_project`.\n",
        "- Once you're done with the inspector UI, make sure to close the inspector by typing `Ctrl+C` in the terminal below."
      ]
    },
    {
      "cell_type": "code",
      "execution_count": 3,
      "metadata": {
        "colab": {
          "base_uri": "https://localhost:8080/",
          "height": 233
        },
        "id": "Y4jjif1KhBJl",
        "outputId": "b046f808-5586-47b4-cbb8-9dd423ef8f65"
      },
      "outputs": [
        {
          "ename": "AttributeError",
          "evalue": "'NoneType' object has no attribute 'format'",
          "output_type": "error",
          "traceback": [
            "\u001b[0;31m---------------------------------------------------------------------------\u001b[0m",
            "\u001b[0;31mAttributeError\u001b[0m                            Traceback (most recent call last)",
            "Cell \u001b[0;32mIn[3], line 4\u001b[0m\n\u001b[1;32m      1\u001b[0m \u001b[38;5;28;01mfrom\u001b[39;00m\u001b[38;5;250m \u001b[39m\u001b[38;5;21;01mIPython\u001b[39;00m\u001b[38;5;21;01m.\u001b[39;00m\u001b[38;5;21;01mdisplay\u001b[39;00m\u001b[38;5;250m \u001b[39m\u001b[38;5;28;01mimport\u001b[39;00m IFrame\n\u001b[1;32m      2\u001b[0m \u001b[38;5;28;01mimport\u001b[39;00m\u001b[38;5;250m \u001b[39m\u001b[38;5;21;01mos\u001b[39;00m\n\u001b[0;32m----> 4\u001b[0m url \u001b[38;5;241m=\u001b[39m \u001b[43mos\u001b[49m\u001b[38;5;241;43m.\u001b[39;49m\u001b[43menviron\u001b[49m\u001b[38;5;241;43m.\u001b[39;49m\u001b[43mget\u001b[49m\u001b[43m(\u001b[49m\u001b[38;5;124;43m'\u001b[39;49m\u001b[38;5;124;43mDLAI_LOCAL_URL\u001b[39;49m\u001b[38;5;124;43m'\u001b[39;49m\u001b[43m)\u001b[49m\u001b[38;5;241;43m.\u001b[39;49m\u001b[43mformat\u001b[49m(port\u001b[38;5;241m=\u001b[39m\u001b[38;5;241m8888\u001b[39m)\n\u001b[1;32m      5\u001b[0m IFrame(\u001b[38;5;124mf\u001b[39m\u001b[38;5;124m\"\u001b[39m\u001b[38;5;132;01m{\u001b[39;00murl\u001b[38;5;132;01m}\u001b[39;00m\u001b[38;5;124mterminals/1\u001b[39m\u001b[38;5;124m\"\u001b[39m, width\u001b[38;5;241m=\u001b[39m\u001b[38;5;241m660\u001b[39m, height\u001b[38;5;241m=\u001b[39m\u001b[38;5;241m600\u001b[39m)\n",
            "\u001b[0;31mAttributeError\u001b[0m: 'NoneType' object has no attribute 'format'"
          ]
        }
      ],
      "source": [
        "from IPython.display import IFrame\n",
        "import os\n",
        "\n",
        "url = os.environ.get('DLAI_LOCAL_URL').format(port=8888)\n",
        "IFrame(f\"{url}terminals/1\", width=660, height=600)"
      ]
    }
  ],
  "metadata": {
    "colab": {
      "provenance": []
    },
    "kernelspec": {
      "display_name": "Python 3",
      "name": "python3"
    },
    "language_info": {
      "codemirror_mode": {
        "name": "ipython",
        "version": 3
      },
      "file_extension": ".py",
      "mimetype": "text/x-python",
      "name": "python",
      "nbconvert_exporter": "python",
      "pygments_lexer": "ipython3",
      "version": "3.10.12"
    }
  },
  "nbformat": 4,
  "nbformat_minor": 0
}
